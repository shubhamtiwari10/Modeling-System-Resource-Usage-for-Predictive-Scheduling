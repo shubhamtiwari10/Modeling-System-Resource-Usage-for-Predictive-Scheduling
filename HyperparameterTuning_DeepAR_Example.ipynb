{
 "cells": [
  {
   "cell_type": "markdown",
   "metadata": {},
   "source": [
    "# Created hyperparameter tuning job on the GUI (which now fails), attempted to run tuning job with code below.\n",
    "\n",
    "### So far, no examples of full hyperparameter tuning code available, that I have found at least.\n",
    "\n",
    "#### Documentation from Sagemaker avaiable [here]()"
   ]
  },
  {
   "cell_type": "markdown",
   "metadata": {},
   "source": [
    "## Specify where your training and testing data are located"
   ]
  },
  {
   "cell_type": "code",
   "execution_count": null,
   "metadata": {},
   "outputs": [],
   "source": [
    "s3_input_train = 's3://{}/{}/data/train'.format(bucket, prefix)\n",
    "s3_input_test= 's3://{}/{}/data/test'.format(bucket, prefix)"
   ]
  },
  {
   "cell_type": "markdown",
   "metadata": {},
   "source": [
    "## Specify your training image location (your region)"
   ]
  },
  {
   "cell_type": "code",
   "execution_count": null,
   "metadata": {},
   "outputs": [],
   "source": [
    "training_image = containers[region]"
   ]
  },
  {
   "cell_type": "code",
   "execution_count": null,
   "metadata": {},
   "outputs": [],
   "source": [
    "HyperParameterTuningJobConfig={\n",
    "        'Strategy': 'Bayesian',\n",
    "        'HyperParameterTuningJobObjective': {\n",
    "            'Type': 'Minimize',\n",
    "            'MetricName': 'test:RMSE' # metric could either be Bayesian or RMSE, unclear.\n",
    "        },\n",
    "        'ResourceLimits': {\n",
    "            'MaxNumberOfTrainingJobs': 50, \n",
    "            'MaxParallelTrainingJobs': 3\n",
    "        },\n",
    "        'ParameterRanges': {\n",
    "            'IntegerParameterRanges': [\n",
    "                {\n",
    "                    'Name': 'mini_batch_size',\n",
    "                    'MinValue': '32',\n",
    "                    'MaxValue': '50'\n",
    "                },\n",
    "                {\n",
    "                    'Name': 'epochs',\n",
    "                    'MinValue': '32',\n",
    "                    'MaxValue': '50'\n",
    "                },\n",
    "                {\n",
    "                    'Name': 'context_length',\n",
    "                    'MinValue': '20',\n",
    "                    'MaxValue': '50'\n",
    "                },            \n",
    "                {\n",
    "                    'Name': 'num_cells',\n",
    "                    'MinValue': '30',\n",
    "                    'MaxValue': '70'\n",
    "                },            \n",
    "                {\n",
    "                    'Name': 'num_layers',\n",
    "                    'MinValue': '1',\n",
    "                    'MaxValue': '5'\n",
    "                },                  \n",
    "            \n",
    "            ],\n",
    "            'ContinuousParameterRanges': [\n",
    "                {\n",
    "                    'Name': 'dropout_rate',\n",
    "                    'MinValue': '0.00',\n",
    "                    'MaxValue': '0.2'\n",
    "                },\n",
    "                {\n",
    "                    'Name': 'learning_rate',\n",
    "                    'MinValue': '0.0001',\n",
    "                    'MaxValue': '0.01'\n",
    "                }\n",
    "            \n",
    "            ]\n",
    "            \n",
    "        }\n",
    "    }\n",
    "TrainingJobDefinition={\n",
    "        'AlgorithmSpecification': {\n",
    "            'TrainingImage': training_image,\n",
    "            'TrainingInputMode': 'File',\n",
    "            \n",
    "        },\n",
    "        'RoleArn': role,\n",
    "        'StaticHyperParameters': [{\n",
    "            \"prediction_length\": '50',\n",
    "            \"time_freq\": 'min',\n",
    "            \"test_quantiles\": '[0.5, 0.9]'\n",
    "#            \"_tuning_objective_metric\": 'test:RMSE'  # can't figure out where this call needs to go.\n",
    "        }],\n",
    "        'InputDataConfig': [\n",
    "            {\n",
    "                'ChannelName': 'train',\n",
    "                'DataSource': {\n",
    "                    'S3DataSource': {\n",
    "                        'S3DataType': 'S3Prefix',\n",
    "                        'S3Uri': s3_input_train,\n",
    "                        'S3DataDistributionType': 'FullyReplicated'\n",
    "                    }\n",
    "                },\n",
    "                'ContentType': 'json',\n",
    "                'CompressionType': 'None',\n",
    "                'RecordWrapperType': 'None'\n",
    "            ,\n",
    "                \n",
    "            'ChannelName': 'test',\n",
    "                'DataSource': {\n",
    "                    'S3DataSource': {\n",
    "                        'S3DataType': 'S3Prefix',\n",
    "                        'S3Uri': s3_input_test,\n",
    "                        'S3DataDistributionType': 'FullyReplicated'\n",
    "                    }\n",
    "                },\n",
    "                'ContentType': 'json',\n",
    "                'CompressionType': 'None',\n",
    "                'RecordWrapperType': 'None'\n",
    "\n",
    "            }\n",
    "        ],\n",
    "\n",
    "        'OutputDataConfig': {\n",
    "            \"S3OutputPath\": \"s3://{}/{}/output\".format(bucket,prefix)\n",
    "        },\n",
    "        'ResourceConfig': {\n",
    "            'InstanceType': 'ml.m4.xlarge', # depending on size of data and number of TS, might need larger or smaller\n",
    "            'InstanceCount': 1, #  You can change this limit, I had to request a limit\n",
    "            'VolumeSizeInGB': 1,\n",
    "        },\n",
    "    'StoppingCondition': {\n",
    "            'MaxRuntimeInSeconds': 86400\n",
    "        }\n",
    "        \n",
    "}"
   ]
  },
  {
   "cell_type": "markdown",
   "metadata": {},
   "source": [
    "## Run tuning job"
   ]
  },
  {
   "cell_type": "code",
   "execution_count": null,
   "metadata": {},
   "outputs": [],
   "source": [
    "smclient.create_hyper_parameter_tuning_job(HyperParameterTuningJobName = 'TUNING-JOB-NAME',\n",
    "                                            HyperParameterTuningJobConfig = HyperParameterTuningJobConfig,\n",
    "                                            TrainingJobDefinition = TrainingJobDefinition1)"
   ]
  },
  {
   "cell_type": "markdown",
   "metadata": {},
   "source": [
    "## Above command will run tuning job where you can access the best job parameters on the GUI or call them here to use for model training."
   ]
  }
 ],
 "metadata": {
  "kernelspec": {
   "display_name": "Python 3",
   "language": "python",
   "name": "python3"
  },
  "language_info": {
   "codemirror_mode": {
    "name": "ipython",
    "version": 3
   },
   "file_extension": ".py",
   "mimetype": "text/x-python",
   "name": "python",
   "nbconvert_exporter": "python",
   "pygments_lexer": "ipython3",
   "version": "3.8.8"
  }
 },
 "nbformat": 4,
 "nbformat_minor": 2
}
