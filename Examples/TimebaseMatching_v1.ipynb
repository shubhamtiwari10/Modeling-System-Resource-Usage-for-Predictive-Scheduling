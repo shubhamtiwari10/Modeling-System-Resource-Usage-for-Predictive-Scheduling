{
 "cells": [
  {
   "cell_type": "markdown",
   "metadata": {},
   "source": [
    "# Timebase matching\n",
    "\n",
    "This records the nearest neighbor... You may want to think about whether this is OK (probably is?) or whether the physicality of the system would be better represented by finding nearest *last* neighbor. Just tweak ind_nearest function for that"
   ]
  },
  {
   "cell_type": "code",
   "execution_count": null,
   "metadata": {},
   "outputs": [],
   "source": [
    "import numpy as np\n",
    "from random import random"
   ]
  },
  {
   "cell_type": "markdown",
   "metadata": {},
   "source": [
    "## Define find-nearest function from \n",
    "\n",
    "https://stackoverflow.com/questions/2566412/find-nearest-value-in-numpy-array#2566508"
   ]
  },
  {
   "cell_type": "code",
   "execution_count": null,
   "metadata": {},
   "outputs": [],
   "source": [
    "def find_nearest(array,value):\n",
    "    idx = (np.abs(array-value)).argmin() # idk I guess there's something wrong with this line. Fork python\n",
    "    return array[idx]"
   ]
  },
  {
   "cell_type": "markdown",
   "metadata": {},
   "source": [
    "## Make example irregular timexase + data"
   ]
  },
  {
   "cell_type": "code",
   "execution_count": null,
   "metadata": {},
   "outputs": [],
   "source": [
    "IrregularTimebase = (0,5.1,9.8,15.1,20.1,25.0,30.1)\n",
    "IrregularData = (98,99,90,97,100,95,90)"
   ]
  },
  {
   "cell_type": "markdown",
   "metadata": {},
   "source": [
    "## Make regular timebase"
   ]
  },
  {
   "cell_type": "code",
   "execution_count": null,
   "metadata": {},
   "outputs": [],
   "source": [
    "RegularTimebase = (0,5,10,15,20,25,30)\n",
    "RegularData = ()\n",
    "TimeDifference = ()"
   ]
  },
  {
   "cell_type": "markdown",
   "metadata": {},
   "source": [
    "## Loop over timebase and populate RegalurData with nearest timepoints\n",
    "\n",
    "Find the index of the nearest time point\n",
    "\n",
    "Use that index to find the nearest data point\n",
    "\n",
    "Record also a time difference, since this will be important for **quality assurance** by allowing you to look for outliers where the data point was snagged from far away instead of ~ 5 min. If things get weird down the road, you can look at the dt's to see if that's where artifacts were introduced"
   ]
  },
  {
   "cell_type": "code",
   "execution_count": null,
   "metadata": {},
   "outputs": [],
   "source": [
    "for t in RegularTimebase:\n",
    "    print(25*'*')\n",
    "    print('Regular Time = ' + str(t))\n",
    "    \n",
    "    NearestIndex = find_nearest(IrregularTimebase,t) # find nearest timepoint on irregular basis\n",
    "    \n",
    "    NearestIrregTime = IrregularTimebase[NearestIndex] # note nearest irregular time\n",
    "    \n",
    "    RegularData.append(IrregularData[NearestIndex]) # record nearest value from irregular data\n",
    "    \n",
    "    TimeDifference.append(t-NearestIrregTime)\n",
    "    \n",
    "    print('Nearest irregular time = ' + str(IrregularTimebase[NearestIndex]))\n",
    "    \n",
    "    print('dt = ' + str(t-NearestIrregTime))\n",
    "    \n",
    "    print('Closest data value = ' IrregularData[NearestIndex])\n",
    "    "
   ]
  },
  {
   "cell_type": "markdown",
   "metadata": {},
   "source": [
    "## Show results"
   ]
  },
  {
   "cell_type": "code",
   "execution_count": null,
   "metadata": {},
   "outputs": [],
   "source": [
    "print(RegularTimebase)\n",
    "print(RegularData)"
   ]
  }
 ],
 "metadata": {
  "kernelspec": {
   "display_name": "Python 3",
   "language": "python",
   "name": "python3"
  },
  "language_info": {
   "codemirror_mode": {
    "name": "ipython",
    "version": 3
   },
   "file_extension": ".py",
   "mimetype": "text/x-python",
   "name": "python",
   "nbconvert_exporter": "python",
   "pygments_lexer": "ipython3",
   "version": "3.6.5"
  }
 },
 "nbformat": 4,
 "nbformat_minor": 2
}
