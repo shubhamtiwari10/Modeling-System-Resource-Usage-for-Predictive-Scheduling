{
 "cells": [
  {
   "cell_type": "code",
   "execution_count": 101,
   "metadata": {},
   "outputs": [],
   "source": [
    "import json\n",
    "import math\n",
    "from os import path\n",
    "import pandas as pd"
   ]
  },
  {
   "cell_type": "code",
   "execution_count": 102,
   "metadata": {},
   "outputs": [],
   "source": [
    "CPU_DF_PATH = path.join(path.curdir, 'dftoformat.csv')"
   ]
  },
  {
   "cell_type": "code",
   "execution_count": 103,
   "metadata": {},
   "outputs": [
    {
     "data": {
      "text/html": [
       "<div>\n",
       "<style scoped>\n",
       "    .dataframe tbody tr th:only-of-type {\n",
       "        vertical-align: middle;\n",
       "    }\n",
       "\n",
       "    .dataframe tbody tr th {\n",
       "        vertical-align: top;\n",
       "    }\n",
       "\n",
       "    .dataframe thead th {\n",
       "        text-align: right;\n",
       "    }\n",
       "</style>\n",
       "<table border=\"1\" class=\"dataframe\">\n",
       "  <thead>\n",
       "    <tr style=\"text-align: right;\">\n",
       "      <th></th>\n",
       "      <th>VM</th>\n",
       "      <th>Timestamp</th>\n",
       "      <th>target</th>\n",
       "    </tr>\n",
       "  </thead>\n",
       "  <tbody>\n",
       "    <tr>\n",
       "      <th>0</th>\n",
       "      <td>1</td>\n",
       "      <td>2013-06-30 22:05:00</td>\n",
       "      <td>87.779984</td>\n",
       "    </tr>\n",
       "    <tr>\n",
       "      <th>1</th>\n",
       "      <td>1</td>\n",
       "      <td>2013-06-30 22:10:00</td>\n",
       "      <td>29.259995</td>\n",
       "    </tr>\n",
       "    <tr>\n",
       "      <th>2</th>\n",
       "      <td>1</td>\n",
       "      <td>2013-06-30 22:15:00</td>\n",
       "      <td>27.309328</td>\n",
       "    </tr>\n",
       "    <tr>\n",
       "      <th>3</th>\n",
       "      <td>1</td>\n",
       "      <td>2013-06-30 22:20:00</td>\n",
       "      <td>23.407996</td>\n",
       "    </tr>\n",
       "    <tr>\n",
       "      <th>4</th>\n",
       "      <td>1</td>\n",
       "      <td>2013-06-30 22:25:00</td>\n",
       "      <td>19.506663</td>\n",
       "    </tr>\n",
       "  </tbody>\n",
       "</table>\n",
       "</div>"
      ],
      "text/plain": [
       "   VM            Timestamp     target\n",
       "0   1  2013-06-30 22:05:00  87.779984\n",
       "1   1  2013-06-30 22:10:00  29.259995\n",
       "2   1  2013-06-30 22:15:00  27.309328\n",
       "3   1  2013-06-30 22:20:00  23.407996\n",
       "4   1  2013-06-30 22:25:00  19.506663"
      ]
     },
     "execution_count": 103,
     "metadata": {},
     "output_type": "execute_result"
    }
   ],
   "source": [
    "cpu_use_df = pd.read_csv(CPU_DF_PATH)\n",
    "cpu_use_df.head()"
   ]
  },
  {
   "cell_type": "code",
   "execution_count": 104,
   "metadata": {},
   "outputs": [],
   "source": [
    "cpu_use_timeseries = []\n",
    "vm_index_range = cpu_use_df['VM'].unique()\n",
    "for vm in vm_index_range:\n",
    "    vm_series = cpu_use_df[cpu_use_df['VM'] == vm]\n",
    "    \n",
    "    # some data is invalid and thus needs to be set to something \n",
    "    # (it could be the previous num for normalization or removed)\n",
    "    target_list = []\n",
    "    for num in vm_series['target']:\n",
    "        if math.isnan(num) == False:\n",
    "            target_list.append(float(num))\n",
    "        else:\n",
    "            target_list.append(0.0)\n",
    "            \n",
    "    cpu_use_timeseries.append({\n",
    "        'start': vm_series['Timestamp'].tolist()[0], # the starting timestamp\n",
    "        'target': target_list, # these need to be converted to floats for json\n",
    "         #'cat': vm, if we used categories we could do this\n",
    "    })"
   ]
  },
  {
   "cell_type": "code",
   "execution_count": 105,
   "metadata": {},
   "outputs": [],
   "source": [
    "with open('cpu_use_timeseries.json', 'w+') as new_file:\n",
    "    new_file.write(json.dumps(cpu_use_timeseries))"
   ]
  }
 ],
 "metadata": {
  "kernelspec": {
   "display_name": "Python 3",
   "language": "python",
   "name": "python3"
  },
  "language_info": {
   "codemirror_mode": {
    "name": "ipython",
    "version": 3
   },
   "file_extension": ".py",
   "mimetype": "text/x-python",
   "name": "python",
   "nbconvert_exporter": "python",
   "pygments_lexer": "ipython3",
   "version": "3.6.5"
  }
 },
 "nbformat": 4,
 "nbformat_minor": 2
}
